{
 "cells": [
  {
   "cell_type": "code",
   "execution_count": 1,
   "metadata": {},
   "outputs": [],
   "source": [
    "import pandas as pd \n",
    "\n",
    "from utils.assigner import RandomAssigner, GreedyAssigner\n",
    "from utils.evaluation import (\n",
    "    calc_pair_frequencies, \n",
    "    evaluate_pair_fairness, \n",
    "    count_pair_frequency_distribution\n",
    ")"
   ]
  },
  {
   "cell_type": "code",
   "execution_count": 2,
   "metadata": {},
   "outputs": [
    {
     "name": "stdout",
     "output_type": "stream",
     "text": [
      "[defaultdict(<class 'list'>, {1: [2, 11, 10, 6, 12], 2: [3, 4, 8, 9, 5], 3: [1, 15, 13, 7, 14]}), defaultdict(<class 'list'>, {1: [6, 14, 1, 4, 3], 2: [2, 8, 15, 13, 5], 3: [11, 7, 12, 10, 9]}), defaultdict(<class 'list'>, {1: [14, 10, 12, 6, 1], 2: [3, 7, 15, 13, 4], 3: [11, 5, 9, 8, 2]})]\n",
      "[defaultdict(<class 'list'>, {1: [13, 5, 4, 10, 3], 2: [9, 15, 6, 8, 1], 3: [11, 14, 7, 12, 2]}), defaultdict(<class 'list'>, {1: [7, 1, 5, 12, 15], 2: [11, 6, 10, 14, 8], 3: [2, 9, 3, 13, 4]}), defaultdict(<class 'list'>, {1: [3, 15, 14, 7, 8], 2: [1, 10, 2, 5, 11], 3: [4, 6, 12, 13, 9]})]\n"
     ]
    }
   ],
   "source": [
    "total_participants = 15\n",
    "total_rooms = 3\n",
    "total_rounds = 3\n",
    "\n",
    "random_assigner = RandomAssigner(total_participants, total_rooms, total_rounds)\n",
    "greedy_assigner = GreedyAssigner(total_participants, total_rooms, total_rounds)\n",
    "\n",
    "random_assignments = random_assigner.generate_assignments()\n",
    "greedy_assignments = greedy_assigner.generate_assignments()\n",
    "\n",
    "print(random_assignments)\n",
    "print(greedy_assignments)"
   ]
  },
  {
   "cell_type": "code",
   "execution_count": 3,
   "metadata": {},
   "outputs": [
    {
     "data": {
      "text/plain": [
       "Counter({1: 47, 2: 14, 3: 5})"
      ]
     },
     "execution_count": 3,
     "metadata": {},
     "output_type": "execute_result"
    }
   ],
   "source": [
    "count_pair_frequency_distribution(calc_pair_frequencies(random_assignments))"
   ]
  },
  {
   "cell_type": "code",
   "execution_count": 4,
   "metadata": {},
   "outputs": [
    {
     "data": {
      "text/plain": [
       "Counter({1: 53, 2: 17, 3: 1})"
      ]
     },
     "execution_count": 4,
     "metadata": {},
     "output_type": "execute_result"
    }
   ],
   "source": [
    "count_pair_frequency_distribution(calc_pair_frequencies(greedy_assignments))"
   ]
  },
  {
   "cell_type": "code",
   "execution_count": 5,
   "metadata": {},
   "outputs": [
    {
     "data": {
      "text/plain": [
       "{'mean': np.float64(1.3636363636363635),\n",
       " 'std_dev': np.float64(0.6188053895958223)}"
      ]
     },
     "execution_count": 5,
     "metadata": {},
     "output_type": "execute_result"
    }
   ],
   "source": [
    "evaluate_pair_fairness(calc_pair_frequencies(random_assignments))"
   ]
  },
  {
   "cell_type": "code",
   "execution_count": 6,
   "metadata": {},
   "outputs": [
    {
     "data": {
      "text/plain": [
       "{'mean': np.float64(1.267605633802817),\n",
       " 'std_dev': np.float64(0.47345736095694685)}"
      ]
     },
     "execution_count": 6,
     "metadata": {},
     "output_type": "execute_result"
    }
   ],
   "source": [
    "evaluate_pair_fairness(calc_pair_frequencies(greedy_assignments))"
   ]
  },
  {
   "cell_type": "code",
   "execution_count": 7,
   "metadata": {},
   "outputs": [],
   "source": [
    "random_res = []\n",
    "greedy_res = []\n",
    "\n",
    "for _ in range(1000):\n",
    "    random_assignments = random_assigner.generate_assignments()\n",
    "    greedy_assignments = greedy_assigner.generate_assignments()\n",
    "\n",
    "    random_pair_freq = calc_pair_frequencies(random_assignments)\n",
    "    greedy_pair_freq = calc_pair_frequencies(greedy_assignments)\n",
    "\n",
    "    random_freq_dist = count_pair_frequency_distribution(random_pair_freq)\n",
    "    greedy_freq_dist = count_pair_frequency_distribution(greedy_pair_freq)\n",
    "\n",
    "    random_fairness = evaluate_pair_fairness(random_pair_freq)\n",
    "    greedy_fairness = evaluate_pair_fairness(greedy_pair_freq)\n",
    "\n",
    "    random_fairness[\"onepair\"] = random_freq_dist.get(1)\n",
    "    greedy_fairness[\"onepair\"] = greedy_freq_dist.get(1)\n",
    "\n",
    "    random_res.append(random_fairness)\n",
    "    greedy_res.append(greedy_fairness)\n"
   ]
  },
  {
   "cell_type": "code",
   "execution_count": 8,
   "metadata": {},
   "outputs": [
    {
     "name": "stdout",
     "output_type": "stream",
     "text": [
      "各指標についてrandom vs greedyの勝敗カウント:\n",
      "\n",
      "mean:\n",
      "random の勝ち: 147 (14.7%)\n",
      "greedy の勝ち: 853 (85.3%)\n",
      "\n",
      "std_dev:\n",
      "random の勝ち: 121 (12.1%)\n",
      "greedy の勝ち: 879 (87.9%)\n",
      "\n",
      "onepair:\n",
      "random の勝ち: 179 (17.9%)\n",
      "greedy の勝ち: 821 (82.1%)\n"
     ]
    }
   ],
   "source": [
    "random_df = pd.DataFrame(random_res)\n",
    "greedy_df = pd.DataFrame(greedy_res)\n",
    "\n",
    "# 各指標について行ごとに比較\n",
    "comparison_results = {\n",
    "    'mean': (random_df['mean'] > greedy_df['mean']).value_counts(),\n",
    "    'std_dev': (random_df['std_dev'] > greedy_df['std_dev']).value_counts(),\n",
    "    'onepair': (random_df['onepair'] < greedy_df['onepair']).value_counts()\n",
    "}\n",
    "\n",
    "print(\"各指標についてrandom vs greedyの勝敗カウント:\")\n",
    "for metric, results in comparison_results.items():\n",
    "    print(f\"\\n{metric}:\")\n",
    "    random_wins = results.get(False, 0)\n",
    "    greedy_wins = results.get(True, 0)\n",
    "    total = random_wins + greedy_wins\n",
    "    print(f\"random の勝ち: {random_wins} ({random_wins/total*100:.1f}%)\")\n",
    "    print(f\"greedy の勝ち: {greedy_wins} ({greedy_wins/total*100:.1f}%)\")\n"
   ]
  }
 ],
 "metadata": {
  "kernelspec": {
   "display_name": ".venv",
   "language": "python",
   "name": "python3"
  },
  "language_info": {
   "codemirror_mode": {
    "name": "ipython",
    "version": 3
   },
   "file_extension": ".py",
   "mimetype": "text/x-python",
   "name": "python",
   "nbconvert_exporter": "python",
   "pygments_lexer": "ipython3",
   "version": "3.11.9"
  }
 },
 "nbformat": 4,
 "nbformat_minor": 2
}
